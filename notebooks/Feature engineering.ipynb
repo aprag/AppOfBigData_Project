{
 "cells": [
  {
   "cell_type": "markdown",
   "id": "a5d04f4f-af7f-44bd-b69a-0d118c687a02",
   "metadata": {},
   "source": [
    "# Feature Engineering"
   ]
  },
  {
   "cell_type": "markdown",
   "id": "9b38259a-288d-4ae6-91d7-3738b7ef1374",
   "metadata": {},
   "source": [
    "The goal of this notebook is see how to clean the data and to do the feature engineering"
   ]
  },
  {
   "cell_type": "code",
   "execution_count": 1,
   "id": "99e1cd7c-d186-46b4-b670-9bc0d179675d",
   "metadata": {},
   "outputs": [],
   "source": [
    "import pandas as pd\n",
    "import numpy as np"
   ]
  },
  {
   "cell_type": "code",
   "execution_count": 2,
   "id": "b05c7060-94ff-424a-92b5-d1ba9904d717",
   "metadata": {},
   "outputs": [],
   "source": [
    "test_df = pd.read_csv('../data/raw/application_test.csv')\n",
    "train_df = pd.read_csv('../data/raw/application_train.csv')"
   ]
  },
  {
   "cell_type": "code",
   "execution_count": 3,
   "id": "36df7f25-a3f5-4aeb-9060-8b11258bf6c6",
   "metadata": {},
   "outputs": [
    {
     "name": "stdout",
     "output_type": "stream",
     "text": [
      "(307511, 122) (48744, 121)\n"
     ]
    }
   ],
   "source": [
    "print(train_df.shape, test_df.shape)"
   ]
  },
  {
   "cell_type": "markdown",
   "id": "8faf8b8a-7dcb-4a96-951f-273ec9213ee0",
   "metadata": {},
   "source": [
    "## Delete missing values "
   ]
  },
  {
   "cell_type": "raw",
   "id": "79cbb294",
   "metadata": {},
   "source": [
    "There is to much data with missing values so we start to drop the columns with more than 60% of missing values."
   ]
  },
  {
   "cell_type": "code",
   "execution_count": 4,
   "id": "96fc76bc",
   "metadata": {},
   "outputs": [
    {
     "name": "stdout",
     "output_type": "stream",
     "text": [
      "(122, 2)\n",
      "                           Total    Percent\n",
      "COMMONAREA_MEDI           214865  69.872297\n",
      "COMMONAREA_AVG            214865  69.872297\n",
      "COMMONAREA_MODE           214865  69.872297\n",
      "NONLIVINGAPARTMENTS_MODE  213514  69.432963\n",
      "NONLIVINGAPARTMENTS_AVG   213514  69.432963\n",
      "NONLIVINGAPARTMENTS_MEDI  213514  69.432963\n",
      "FONDKAPREMONT_MODE        210295  68.386172\n",
      "LIVINGAPARTMENTS_MODE     210199  68.354953\n",
      "LIVINGAPARTMENTS_AVG      210199  68.354953\n",
      "LIVINGAPARTMENTS_MEDI     210199  68.354953\n",
      "FLOORSMIN_AVG             208642  67.848630\n",
      "FLOORSMIN_MODE            208642  67.848630\n",
      "FLOORSMIN_MEDI            208642  67.848630\n",
      "YEARS_BUILD_MEDI          204488  66.497784\n",
      "YEARS_BUILD_MODE          204488  66.497784\n",
      "YEARS_BUILD_AVG           204488  66.497784\n",
      "OWN_CAR_AGE               202929  65.990810\n",
      "LANDAREA_MEDI             182590  59.376738\n",
      "LANDAREA_MODE             182590  59.376738\n",
      "LANDAREA_AVG              182590  59.376738\n",
      "BASEMENTAREA_MEDI         179943  58.515956\n",
      "BASEMENTAREA_AVG          179943  58.515956\n",
      "BASEMENTAREA_MODE         179943  58.515956\n",
      "EXT_SOURCE_1              173378  56.381073\n",
      "NONLIVINGAREA_MODE        169682  55.179164\n",
      "NONLIVINGAREA_AVG         169682  55.179164\n",
      "NONLIVINGAREA_MEDI        169682  55.179164\n",
      "ELEVATORS_MEDI            163891  53.295980\n",
      "ELEVATORS_AVG             163891  53.295980\n",
      "ELEVATORS_MODE            163891  53.295980\n",
      "WALLSMATERIAL_MODE        156341  50.840783\n",
      "APARTMENTS_MEDI           156061  50.749729\n",
      "APARTMENTS_AVG            156061  50.749729\n",
      "APARTMENTS_MODE           156061  50.749729\n",
      "ENTRANCES_MEDI            154828  50.348768\n",
      "ENTRANCES_AVG             154828  50.348768\n",
      "ENTRANCES_MODE            154828  50.348768\n",
      "LIVINGAREA_AVG            154350  50.193326\n",
      "LIVINGAREA_MODE           154350  50.193326\n",
      "LIVINGAREA_MEDI           154350  50.193326\n"
     ]
    }
   ],
   "source": [
    "# checking missing data in train_df\n",
    "\n",
    "number = train_df.isnull().sum().sort_values(ascending = False)\n",
    "percent = (train_df.isnull().sum() / train_df.isnull().count() * 100).sort_values(ascending = False)\n",
    "\n",
    "missing_train_df = pd.concat([number , percent] , axis = 1 , keys = ['Total' , 'Percent'])\n",
    "print(missing_train_df.shape)\n",
    "print(missing_train_df.head(40))"
   ]
  },
  {
   "cell_type": "code",
   "execution_count": 5,
   "id": "57153e81",
   "metadata": {},
   "outputs": [
    {
     "name": "stdout",
     "output_type": "stream",
     "text": [
      "(121, 2)\n",
      "                          Total    Percent\n",
      "COMMONAREA_AVG            33495  68.716150\n",
      "COMMONAREA_MODE           33495  68.716150\n",
      "COMMONAREA_MEDI           33495  68.716150\n",
      "NONLIVINGAPARTMENTS_AVG   33347  68.412523\n",
      "NONLIVINGAPARTMENTS_MODE  33347  68.412523\n",
      "NONLIVINGAPARTMENTS_MEDI  33347  68.412523\n",
      "FONDKAPREMONT_MODE        32797  67.284179\n",
      "LIVINGAPARTMENTS_AVG      32780  67.249302\n",
      "LIVINGAPARTMENTS_MODE     32780  67.249302\n",
      "LIVINGAPARTMENTS_MEDI     32780  67.249302\n",
      "FLOORSMIN_MEDI            32466  66.605121\n",
      "FLOORSMIN_AVG             32466  66.605121\n",
      "FLOORSMIN_MODE            32466  66.605121\n",
      "OWN_CAR_AGE               32312  66.289184\n",
      "YEARS_BUILD_AVG           31818  65.275726\n",
      "YEARS_BUILD_MEDI          31818  65.275726\n",
      "YEARS_BUILD_MODE          31818  65.275726\n",
      "LANDAREA_MEDI             28254  57.964057\n",
      "LANDAREA_AVG              28254  57.964057\n",
      "LANDAREA_MODE             28254  57.964057\n",
      "BASEMENTAREA_MEDI         27641  56.706466\n",
      "BASEMENTAREA_AVG          27641  56.706466\n",
      "BASEMENTAREA_MODE         27641  56.706466\n",
      "NONLIVINGAREA_AVG         26084  53.512227\n",
      "NONLIVINGAREA_MODE        26084  53.512227\n",
      "NONLIVINGAREA_MEDI        26084  53.512227\n",
      "ELEVATORS_MODE            25189  51.676104\n",
      "ELEVATORS_MEDI            25189  51.676104\n",
      "ELEVATORS_AVG             25189  51.676104\n",
      "WALLSMATERIAL_MODE        23893  49.017315\n",
      "APARTMENTS_MODE           23887  49.005006\n",
      "APARTMENTS_MEDI           23887  49.005006\n",
      "APARTMENTS_AVG            23887  49.005006\n",
      "HOUSETYPE_MODE            23619  48.455194\n",
      "ENTRANCES_MODE            23579  48.373133\n",
      "ENTRANCES_AVG             23579  48.373133\n",
      "ENTRANCES_MEDI            23579  48.373133\n",
      "LIVINGAREA_MEDI           23552  48.317742\n",
      "LIVINGAREA_MODE           23552  48.317742\n",
      "LIVINGAREA_AVG            23552  48.317742\n"
     ]
    }
   ],
   "source": [
    "# checking missing data in test_df\n",
    "number = test_df.isnull().sum().sort_values(ascending = False)\n",
    "percent = (test_df.isnull().sum() / test_df.isnull().count() * 100).sort_values(ascending = False)\n",
    "\n",
    "missing_test_df = pd.concat([number , percent] , axis = 1 , keys = ['Total' , 'Percent'])\n",
    "print(missing_test_df.shape)\n",
    "print(missing_test_df.head(40))"
   ]
  },
  {
   "cell_type": "code",
   "execution_count": 6,
   "id": "367b0bc8",
   "metadata": {},
   "outputs": [
    {
     "data": {
      "text/plain": [
       "<bound method Series.unique of 0         1\n",
       "1         0\n",
       "2         0\n",
       "3         0\n",
       "4         0\n",
       "         ..\n",
       "307506    0\n",
       "307507    0\n",
       "307508    0\n",
       "307509    1\n",
       "307510    0\n",
       "Name: TARGET, Length: 307511, dtype: int64>"
      ]
     },
     "execution_count": 6,
     "metadata": {},
     "output_type": "execute_result"
    }
   ],
   "source": [
    "train_df['TARGET'].unique"
   ]
  },
  {
   "cell_type": "code",
   "execution_count": 7,
   "id": "bcbdfb15",
   "metadata": {},
   "outputs": [],
   "source": [
    "#we drop columns with more than 60% missing values\n",
    "def dropna(df):\n",
    "    mv=df.isna().sum()/df.shape[0]\n",
    "    val=mv[mv>0.60]\n",
    "    l=[i for i in val.index]\n",
    "    dat=df.drop(l,axis=1)\n",
    "    return dat"
   ]
  },
  {
   "cell_type": "code",
   "execution_count": 8,
   "id": "c0e149bf",
   "metadata": {},
   "outputs": [],
   "source": [
    "train_df=dropna(train_df)"
   ]
  },
  {
   "cell_type": "code",
   "execution_count": 9,
   "id": "440627f3",
   "metadata": {},
   "outputs": [],
   "source": [
    "test_df=dropna(test_df)"
   ]
  },
  {
   "cell_type": "code",
   "execution_count": 10,
   "id": "c9628785",
   "metadata": {},
   "outputs": [
    {
     "name": "stdout",
     "output_type": "stream",
     "text": [
      "(307511, 105) (48744, 104)\n"
     ]
    }
   ],
   "source": [
    "print(train_df.shape, test_df.shape)"
   ]
  },
  {
   "cell_type": "code",
   "execution_count": 11,
   "id": "ff38a6a8",
   "metadata": {},
   "outputs": [],
   "source": [
    "#we drop rows with more than 70% missing values as they are irrelevent\n",
    "train_df.dropna(axis = 0, how = 'any', thresh = int(train_df.shape[1]*0.7),inplace=True)\n",
    "test_df.dropna(axis = 0, how = 'any', thresh = int(test_df.shape[1]*0.7),inplace=True)"
   ]
  },
  {
   "cell_type": "code",
   "execution_count": 12,
   "id": "4dab4526",
   "metadata": {},
   "outputs": [
    {
     "name": "stdout",
     "output_type": "stream",
     "text": [
      "(254467, 105) (41707, 104)\n"
     ]
    }
   ],
   "source": [
    "print(train_df.shape, test_df.shape)"
   ]
  },
  {
   "cell_type": "markdown",
   "id": "5c137593-f826-448d-87db-92757779e88d",
   "metadata": {},
   "source": [
    "Use dummies"
   ]
  },
  {
   "cell_type": "code",
   "execution_count": 13,
   "id": "501437a0-fb8e-49ac-a416-fe70992e365d",
   "metadata": {},
   "outputs": [],
   "source": [
    "train_df = pd.get_dummies(train_df)\n",
    "test_df = pd.get_dummies(test_df)\n",
    "target = train_df['TARGET']\n",
    "\n",
    "train_df, test_df = train_df.align(test_df, join = 'inner', axis = 1)\n",
    "train_df['TARGET'] = target"
   ]
  },
  {
   "cell_type": "code",
   "execution_count": 14,
   "id": "36eccd16-f921-4557-8041-c1b1970244bd",
   "metadata": {},
   "outputs": [
    {
     "name": "stdout",
     "output_type": "stream",
     "text": [
      "(254467, 223) (41707, 222)\n"
     ]
    }
   ],
   "source": [
    "print(train_df.shape, test_df.shape)"
   ]
  },
  {
   "cell_type": "code",
   "execution_count": 15,
   "id": "4d575dca",
   "metadata": {},
   "outputs": [],
   "source": [
    "train_df.to_csv(r'../data/processed/train.csv')"
   ]
  },
  {
   "cell_type": "code",
   "execution_count": 16,
   "id": "11996b9b",
   "metadata": {},
   "outputs": [],
   "source": [
    "test_df.to_csv(r'../data/processed/test.csv')"
   ]
  }
 ],
 "metadata": {
  "kernelspec": {
   "display_name": "Python 3 (ipykernel)",
   "language": "python",
   "name": "python3"
  },
  "language_info": {
   "codemirror_mode": {
    "name": "ipython",
    "version": 3
   },
   "file_extension": ".py",
   "mimetype": "text/x-python",
   "name": "python",
   "nbconvert_exporter": "python",
   "pygments_lexer": "ipython3",
   "version": "3.9.7"
  }
 },
 "nbformat": 4,
 "nbformat_minor": 5
}
