{
 "cells": [
  {
   "cell_type": "markdown",
   "metadata": {},
   "source": [
    "# Feature Engineering"
   ]
  },
  {
   "cell_type": "markdown",
   "metadata": {},
   "source": [
    "The goal of this notebook is see how to clean the data and to do the feature engineering"
   ]
  },
  {
   "cell_type": "code",
   "execution_count": 1,
   "metadata": {},
   "outputs": [],
   "source": [
    "import pandas as pd\n",
    "import numpy as np"
   ]
  },
  {
   "cell_type": "code",
   "execution_count": 2,
   "metadata": {},
   "outputs": [],
   "source": [
    "test_df = pd.read_csv('../data/raw/application_test.csv')\n",
    "train_df = pd.read_csv('../data/raw/application_train.csv')"
   ]
  },
  {
   "cell_type": "code",
   "execution_count": 3,
   "metadata": {},
   "outputs": [
    {
     "name": "stdout",
     "output_type": "stream",
     "text": [
      "(307511, 122) (48744, 121)\n"
     ]
    }
   ],
   "source": [
    "print(train_df.shape, test_df.shape)"
   ]
  },
  {
   "cell_type": "markdown",
   "metadata": {},
   "source": [
    "## Delete missing values "
   ]
  },
  {
   "cell_type": "raw",
   "metadata": {},
   "source": [
    "There is to much data with missing values so we start to drop the columns with more than 60% of missing values."
   ]
  },
  {
   "cell_type": "code",
   "execution_count": 4,
   "metadata": {},
   "outputs": [
    {
     "name": "stdout",
     "output_type": "stream",
     "text": [
      "(122, 2)\n",
      "                           Total    Percent\n",
      "COMMONAREA_MEDI           214865  69.872297\n",
      "COMMONAREA_AVG            214865  69.872297\n",
      "COMMONAREA_MODE           214865  69.872297\n",
      "NONLIVINGAPARTMENTS_MODE  213514  69.432963\n",
      "NONLIVINGAPARTMENTS_MEDI  213514  69.432963\n",
      "NONLIVINGAPARTMENTS_AVG   213514  69.432963\n",
      "FONDKAPREMONT_MODE        210295  68.386172\n",
      "LIVINGAPARTMENTS_MEDI     210199  68.354953\n",
      "LIVINGAPARTMENTS_MODE     210199  68.354953\n",
      "LIVINGAPARTMENTS_AVG      210199  68.354953\n",
      "FLOORSMIN_MEDI            208642  67.848630\n",
      "FLOORSMIN_MODE            208642  67.848630\n",
      "FLOORSMIN_AVG             208642  67.848630\n",
      "YEARS_BUILD_MEDI          204488  66.497784\n",
      "YEARS_BUILD_AVG           204488  66.497784\n",
      "YEARS_BUILD_MODE          204488  66.497784\n",
      "OWN_CAR_AGE               202929  65.990810\n",
      "LANDAREA_MODE             182590  59.376738\n",
      "LANDAREA_AVG              182590  59.376738\n",
      "LANDAREA_MEDI             182590  59.376738\n",
      "BASEMENTAREA_MEDI         179943  58.515956\n",
      "BASEMENTAREA_AVG          179943  58.515956\n",
      "BASEMENTAREA_MODE         179943  58.515956\n",
      "EXT_SOURCE_1              173378  56.381073\n",
      "NONLIVINGAREA_MEDI        169682  55.179164\n",
      "NONLIVINGAREA_AVG         169682  55.179164\n",
      "NONLIVINGAREA_MODE        169682  55.179164\n",
      "ELEVATORS_MODE            163891  53.295980\n",
      "ELEVATORS_AVG             163891  53.295980\n",
      "ELEVATORS_MEDI            163891  53.295980\n",
      "WALLSMATERIAL_MODE        156341  50.840783\n",
      "APARTMENTS_MODE           156061  50.749729\n",
      "APARTMENTS_AVG            156061  50.749729\n",
      "APARTMENTS_MEDI           156061  50.749729\n",
      "ENTRANCES_MEDI            154828  50.348768\n",
      "ENTRANCES_MODE            154828  50.348768\n",
      "ENTRANCES_AVG             154828  50.348768\n",
      "LIVINGAREA_MEDI           154350  50.193326\n",
      "LIVINGAREA_MODE           154350  50.193326\n",
      "LIVINGAREA_AVG            154350  50.193326\n"
     ]
    }
   ],
   "source": [
    "# checking missing data in train_df\n",
    "\n",
    "number = train_df.isnull().sum().sort_values(ascending = False)\n",
    "percent = (train_df.isnull().sum() / train_df.isnull().count() * 100).sort_values(ascending = False)\n",
    "\n",
    "missing_train_df = pd.concat([number , percent] , axis = 1 , keys = ['Total' , 'Percent'])\n",
    "print(missing_train_df.shape)\n",
    "print(missing_train_df.head(40))"
   ]
  },
  {
   "cell_type": "code",
   "execution_count": 5,
   "metadata": {},
   "outputs": [
    {
     "name": "stdout",
     "output_type": "stream",
     "text": [
      "(121, 2)\n",
      "                          Total    Percent\n",
      "COMMONAREA_MEDI           33495  68.716150\n",
      "COMMONAREA_AVG            33495  68.716150\n",
      "COMMONAREA_MODE           33495  68.716150\n",
      "NONLIVINGAPARTMENTS_MODE  33347  68.412523\n",
      "NONLIVINGAPARTMENTS_MEDI  33347  68.412523\n",
      "NONLIVINGAPARTMENTS_AVG   33347  68.412523\n",
      "FONDKAPREMONT_MODE        32797  67.284179\n",
      "LIVINGAPARTMENTS_AVG      32780  67.249302\n",
      "LIVINGAPARTMENTS_MEDI     32780  67.249302\n",
      "LIVINGAPARTMENTS_MODE     32780  67.249302\n",
      "FLOORSMIN_MEDI            32466  66.605121\n",
      "FLOORSMIN_MODE            32466  66.605121\n",
      "FLOORSMIN_AVG             32466  66.605121\n",
      "OWN_CAR_AGE               32312  66.289184\n",
      "YEARS_BUILD_MEDI          31818  65.275726\n",
      "YEARS_BUILD_MODE          31818  65.275726\n",
      "YEARS_BUILD_AVG           31818  65.275726\n",
      "LANDAREA_AVG              28254  57.964057\n",
      "LANDAREA_MODE             28254  57.964057\n",
      "LANDAREA_MEDI             28254  57.964057\n",
      "BASEMENTAREA_AVG          27641  56.706466\n",
      "BASEMENTAREA_MODE         27641  56.706466\n",
      "BASEMENTAREA_MEDI         27641  56.706466\n",
      "NONLIVINGAREA_MODE        26084  53.512227\n",
      "NONLIVINGAREA_AVG         26084  53.512227\n",
      "NONLIVINGAREA_MEDI        26084  53.512227\n",
      "ELEVATORS_AVG             25189  51.676104\n",
      "ELEVATORS_MEDI            25189  51.676104\n",
      "ELEVATORS_MODE            25189  51.676104\n",
      "WALLSMATERIAL_MODE        23893  49.017315\n",
      "APARTMENTS_AVG            23887  49.005006\n",
      "APARTMENTS_MEDI           23887  49.005006\n",
      "APARTMENTS_MODE           23887  49.005006\n",
      "HOUSETYPE_MODE            23619  48.455194\n",
      "ENTRANCES_MEDI            23579  48.373133\n",
      "ENTRANCES_AVG             23579  48.373133\n",
      "ENTRANCES_MODE            23579  48.373133\n",
      "LIVINGAREA_MEDI           23552  48.317742\n",
      "LIVINGAREA_MODE           23552  48.317742\n",
      "LIVINGAREA_AVG            23552  48.317742\n"
     ]
    }
   ],
   "source": [
    "# checking missing data in test_df\n",
    "number = test_df.isnull().sum().sort_values(ascending = False)\n",
    "percent = (test_df.isnull().sum() / test_df.isnull().count() * 100).sort_values(ascending = False)\n",
    "\n",
    "missing_test_df = pd.concat([number , percent] , axis = 1 , keys = ['Total' , 'Percent'])\n",
    "print(missing_test_df.shape)\n",
    "print(missing_test_df.head(40))"
   ]
  },
  {
   "cell_type": "code",
   "execution_count": 6,
   "metadata": {},
   "outputs": [
    {
     "data": {
      "text/plain": [
       "<bound method Series.unique of 0         1\n",
       "1         0\n",
       "2         0\n",
       "3         0\n",
       "4         0\n",
       "         ..\n",
       "307506    0\n",
       "307507    0\n",
       "307508    0\n",
       "307509    1\n",
       "307510    0\n",
       "Name: TARGET, Length: 307511, dtype: int64>"
      ]
     },
     "execution_count": 6,
     "metadata": {},
     "output_type": "execute_result"
    }
   ],
   "source": [
    "train_df['TARGET'].unique"
   ]
  },
  {
   "cell_type": "code",
   "execution_count": 7,
   "metadata": {},
   "outputs": [],
   "source": [
    "#we drop columns with more than 60% missing values\n",
    "def dropna(df):\n",
    "    mv=df.isna().sum()/df.shape[0]\n",
    "    val=mv[mv>0.60]\n",
    "    l=[i for i in val.index]\n",
    "    dat=df.drop(l,axis=1)\n",
    "    return dat"
   ]
  },
  {
   "cell_type": "code",
   "execution_count": 8,
   "metadata": {},
   "outputs": [],
   "source": [
    "train_df=dropna(train_df)"
   ]
  },
  {
   "cell_type": "code",
   "execution_count": 9,
   "metadata": {},
   "outputs": [],
   "source": [
    "test_df=dropna(test_df)"
   ]
  },
  {
   "cell_type": "code",
   "execution_count": 10,
   "metadata": {},
   "outputs": [
    {
     "name": "stdout",
     "output_type": "stream",
     "text": [
      "(307511, 105) (48744, 104)\n"
     ]
    }
   ],
   "source": [
    "print(train_df.shape, test_df.shape)"
   ]
  },
  {
   "cell_type": "code",
   "execution_count": 21,
   "metadata": {},
   "outputs": [],
   "source": [
    "for col in test_df.select_dtypes(include=[object]).columns:\n",
    "    train_df[col] = train_df[col].fillna(train_df[col].mode(dropna=True)[0])\n",
    "    test_df[col] = test_df[col].fillna(test_df[col].mode(dropna=True)[0])"
   ]
  },
  {
   "cell_type": "code",
   "execution_count": 12,
   "metadata": {},
   "outputs": [],
   "source": [
    "for col in test_df.select_dtypes(include=[int,float]).columns:\n",
    "    train_df[col] = train_df[col].fillna(train_df[col].median())\n",
    "    test_df[col] = test_df[col].fillna(test_df[col].median())"
   ]
  },
  {
   "cell_type": "code",
   "execution_count": 18,
   "metadata": {},
   "outputs": [
    {
     "data": {
      "text/plain": [
       "0"
      ]
     },
     "execution_count": 18,
     "metadata": {},
     "output_type": "execute_result"
    }
   ],
   "source": [
    "train_df.isnull().sum().sum()"
   ]
  },
  {
   "cell_type": "code",
   "execution_count": 19,
   "metadata": {},
   "outputs": [
    {
     "data": {
      "text/plain": [
       "0"
      ]
     },
     "execution_count": 19,
     "metadata": {},
     "output_type": "execute_result"
    }
   ],
   "source": [
    "test_df.isnull().sum().sum()"
   ]
  },
  {
   "cell_type": "code",
   "execution_count": 13,
   "metadata": {},
   "outputs": [
    {
     "name": "stdout",
     "output_type": "stream",
     "text": [
      "(307511, 105) (48744, 104)\n"
     ]
    }
   ],
   "source": [
    "print(train_df.shape, test_df.shape)"
   ]
  },
  {
   "cell_type": "code",
   "execution_count": 14,
   "metadata": {},
   "outputs": [],
   "source": [
    "# Use dummies\n",
    "train_df = pd.get_dummies(train_df)\n",
    "test_df = pd.get_dummies(test_df)\n",
    "target = train_df['TARGET']\n",
    "\n",
    "train_df, test_df = train_df.align(test_df, join = 'inner', axis = 1)\n",
    "train_df['TARGET'] = target"
   ]
  },
  {
   "cell_type": "code",
   "execution_count": 15,
   "metadata": {},
   "outputs": [
    {
     "name": "stdout",
     "output_type": "stream",
     "text": [
      "(307511, 223) (48744, 222)\n"
     ]
    }
   ],
   "source": [
    "print(train_df.shape, test_df.shape)"
   ]
  },
  {
   "cell_type": "code",
   "execution_count": 16,
   "metadata": {},
   "outputs": [],
   "source": [
    "train_df.to_csv(r'../data/processed/train.csv')"
   ]
  },
  {
   "cell_type": "code",
   "execution_count": 17,
   "metadata": {},
   "outputs": [],
   "source": [
    "test_df.to_csv(r'../data/processed/test.csv')"
   ]
  }
 ],
 "metadata": {
  "kernelspec": {
   "display_name": "Python 3",
   "language": "python",
   "name": "python3"
  },
  "language_info": {
   "codemirror_mode": {
    "name": "ipython",
    "version": 3
   },
   "file_extension": ".py",
   "mimetype": "text/x-python",
   "name": "python",
   "nbconvert_exporter": "python",
   "pygments_lexer": "ipython3",
   "version": "3.8.5"
  }
 },
 "nbformat": 4,
 "nbformat_minor": 5
}
