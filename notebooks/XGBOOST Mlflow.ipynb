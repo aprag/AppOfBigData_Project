{
 "cells": [
  {
   "cell_type": "markdown",
   "metadata": {},
   "source": [
    "# MLFlow "
   ]
  },
  {
   "cell_type": "markdown",
   "metadata": {},
   "source": [
    "## XGBOOST"
   ]
  },
  {
   "cell_type": "code",
   "execution_count": 1,
   "metadata": {},
   "outputs": [],
   "source": [
    "import pandas as pd\n",
    "from sklearn.model_selection import train_test_split\n",
    "import seaborn as sb\n",
    "import numpy as np\n",
    "import pickle\n",
    "import matplotlib.pyplot\n",
    "from sklearn.metrics import accuracy_score\n",
    "from sklearn.metrics import precision_score\n",
    "import mlflow\n",
    "import mlflow.xgboost"
   ]
  },
  {
   "cell_type": "code",
   "execution_count": 2,
   "metadata": {},
   "outputs": [],
   "source": [
    "df_train = pd.read_csv('../data/processed/train.csv')\n",
    "df_test = pd.read_csv('../data/processed/test.csv')"
   ]
  },
  {
   "cell_type": "code",
   "execution_count": 3,
   "metadata": {},
   "outputs": [
    {
     "name": "stdout",
     "output_type": "stream",
     "text": [
      "(230633, 223) (76878, 223) (230633,) (76878,)\n"
     ]
    }
   ],
   "source": [
    "X = df_train.drop(columns = ['TARGET'])\n",
    "Y = df_train['TARGET']\n",
    "\n",
    "df_test2 = df_test\n",
    "X_train, X_test, y_train, y_test = train_test_split(X, Y)\n",
    "print(X_train.shape, X_test.shape, y_train.shape, y_test.shape)"
   ]
  },
  {
   "cell_type": "code",
   "execution_count": 9,
   "metadata": {},
   "outputs": [],
   "source": [
    "import xgboost as xgb\n",
    "from xgboost import XGBClassifier\n",
    "from mlflow.utils.environment import _mlflow_conda_env\n",
    "import os\n",
    "import warnings\n",
    "import sys\n",
    "import mlflow\n",
    "import mlflow.xgboost\n",
    "from sklearn.metrics import accuracy_score\n",
    "from sklearn.metrics import roc_auc_score\n",
    "from sklearn.metrics import classification_report\n",
    "def train_xgboost(lr, n_estim):\n",
    "    \n",
    "    with mlflow.start_run(run_name='xgboost'):\n",
    "               \n",
    "        xgb =XGBClassifier(learning_rate= lr, n_estimators= n_estim, seed= 42, subsample= 1, colsample_bytree= 1,max_depth= 3,scale_pos_weight=11)\n",
    "        xgb.fit(X_train, y_train)\n",
    "        mlflow.xgboost.autolog()\n",
    "        \n",
    "        y_pred_auc = xgb.predict_proba(X_test)[:,1]\n",
    "        y_pred = xgb.predict(X_test)\n",
    "      \n",
    "        roc = roc_auc_score(y_test, y_pred_auc)*100\n",
    "        acc = accuracy_score(y_test,y_pred)\n",
    "       \n",
    "        mlflow.log_metric(\"auc_roc\",roc)\n",
    "        mlflow.log_metric(\"accuracy_score\",acc)\n",
    "              \n",
    "        mlflow.log_param('learning_rate', lr)\n",
    "        mlflow.log_param('n_estimators', n_estim)\n",
    "        mlflow.log_param('seed', 0)\n",
    "        mlflow.log_param('subsample', 1)\n",
    "        mlflow.log_param('colsamples_bytree', 1)\n",
    "        mlflow.log_param('objective','binary:logistic')\n",
    "        mlflow.log_param('max_depth', 3)\n",
    "        mlflow.log_param('scale_pos_weight', 11)\n",
    "        \n",
    "        #log model\n",
    "        mlflow.xgboost.log_model(xgb, \"model\")\n",
    "        print(\"roc_auc\",roc)\n",
    "        print(\"accuracy_score\",acc)\n",
    "        "
   ]
  },
  {
   "cell_type": "code",
   "execution_count": 10,
   "metadata": {},
   "outputs": [
    {
     "name": "stdout",
     "output_type": "stream",
     "text": [
      "[05:14:13] WARNING: D:\\bld\\xgboost-split_1637426510059\\work\\src\\learner.cc:1115: Starting in XGBoost 1.3.0, the default evaluation metric used with the objective 'binary:logistic' was changed from 'error' to 'logloss'. Explicitly set eval_metric if you'd like to restore the old behavior.\n",
      "roc_auc 68.71299665410571\n",
      "accuracy_score 0.6826140118109212\n"
     ]
    }
   ],
   "source": [
    "train_xgboost(0.0001,100)"
   ]
  }
 ],
 "metadata": {
  "kernelspec": {
   "display_name": "Python 3",
   "language": "python",
   "name": "python3"
  },
  "language_info": {
   "codemirror_mode": {
    "name": "ipython",
    "version": 3
   },
   "file_extension": ".py",
   "mimetype": "text/x-python",
   "name": "python",
   "nbconvert_exporter": "python",
   "pygments_lexer": "ipython3",
   "version": "3.8.5"
  }
 },
 "nbformat": 4,
 "nbformat_minor": 4
}
